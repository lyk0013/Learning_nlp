{
 "cells": [
  {
   "cell_type": "markdown",
   "id": "lovely-rough",
   "metadata": {},
   "source": [
    "![](./images/transformer_overview.jpg)"
   ]
  },
  {
   "cell_type": "markdown",
   "id": "major-token",
   "metadata": {},
   "source": [
    "## 学习概览"
   ]
  },
  {
   "cell_type": "markdown",
   "id": "decreased-scanning",
   "metadata": {},
   "source": [
    "![transformer学习概览](./images/transformer_overview.png)"
   ]
  },
  {
   "cell_type": "markdown",
   "id": "recorded-grave",
   "metadata": {},
   "source": [
    "## 前置知识\n",
    "* Language Model\n",
    "* word2vec\n",
    "* GloVe\n",
    "* ELMo"
   ]
  },
  {
   "cell_type": "markdown",
   "id": "wanted-biology",
   "metadata": {},
   "source": []
  },
  {
   "cell_type": "code",
   "execution_count": null,
   "id": "designing-investor",
   "metadata": {},
   "outputs": [],
   "source": []
  },
  {
   "cell_type": "markdown",
   "id": "threatened-czech",
   "metadata": {},
   "source": [
    "## Transformer简介"
   ]
  },
  {
   "cell_type": "code",
   "execution_count": null,
   "id": "passive-environment",
   "metadata": {},
   "outputs": [],
   "source": []
  },
  {
   "cell_type": "markdown",
   "id": "stuck-prevention",
   "metadata": {},
   "source": [
    "## 预训练模型简介"
   ]
  },
  {
   "cell_type": "code",
   "execution_count": null,
   "id": "educated-cleaners",
   "metadata": {},
   "outputs": [],
   "source": []
  },
  {
   "cell_type": "markdown",
   "id": "scenic-county",
   "metadata": {},
   "source": []
  }
 ],
 "metadata": {
  "kernelspec": {
   "display_name": "Python 3",
   "language": "python",
   "name": "python3"
  },
  "language_info": {
   "codemirror_mode": {
    "name": "ipython",
    "version": 3
   },
   "file_extension": ".py",
   "mimetype": "text/x-python",
   "name": "python",
   "nbconvert_exporter": "python",
   "pygments_lexer": "ipython3",
   "version": "3.9.2"
  },
  "toc": {
   "base_numbering": 1,
   "nav_menu": {},
   "number_sections": true,
   "sideBar": true,
   "skip_h1_title": false,
   "title_cell": "Table of Contents",
   "title_sidebar": "Contents",
   "toc_cell": false,
   "toc_position": {
    "height": "calc(100% - 180px)",
    "left": "10px",
    "top": "150px",
    "width": "308.242px"
   },
   "toc_section_display": true,
   "toc_window_display": false
  }
 },
 "nbformat": 4,
 "nbformat_minor": 5
}
