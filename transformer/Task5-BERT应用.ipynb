{
 "cells": [
  {
   "cell_type": "markdown",
   "id": "finite-payment",
   "metadata": {},
   "source": [
    "# BERT-based Models应用模型 \n"
   ]
  },
  {
   "cell_type": "markdown",
   "id": "norwegian-bracelet",
   "metadata": {},
   "source": [
    "## BertForPreTraining: MLM & NSP"
   ]
  },
  {
   "cell_type": "code",
   "execution_count": 1,
   "id": "deadly-stage",
   "metadata": {},
   "outputs": [],
   "source": [
    "from transformers import BertTokenizer, BertForPreTraining\n",
    "import torch"
   ]
  },
  {
   "cell_type": "code",
   "execution_count": 2,
   "id": "proprietary-fifteen",
   "metadata": {},
   "outputs": [
    {
     "name": "stderr",
     "output_type": "stream",
     "text": [
      "Some weights of BertForPreTraining were not initialized from the model checkpoint at bert-base-uncased and are newly initialized: ['cls.predictions.decoder.bias']\n",
      "You should probably TRAIN this model on a down-stream task to be able to use it for predictions and inference.\n"
     ]
    }
   ],
   "source": [
    "tokenizer = BertTokenizer.from_pretrained('bert-base-uncased')\n",
    "model = BertForPreTraining.from_pretrained('bert-base-uncased')"
   ]
  },
  {
   "cell_type": "code",
   "execution_count": 12,
   "id": "aerial-neighborhood",
   "metadata": {},
   "outputs": [],
   "source": [
    "sentences = [\n",
    "    ['Hello, my dog is cute. ', 'I like it'],\n",
    "    ['Hello, my cat is cute. ', 'I like it so much']\n",
    "]"
   ]
  },
  {
   "cell_type": "code",
   "execution_count": 35,
   "id": "transparent-payroll",
   "metadata": {},
   "outputs": [],
   "source": [
    "inputs = tokenizer(*sentences[0], padding=True, return_tensors='pt')"
   ]
  },
  {
   "cell_type": "code",
   "execution_count": 36,
   "id": "stopped-place",
   "metadata": {},
   "outputs": [
    {
     "data": {
      "text/plain": [
       "{'input_ids': tensor([[  101,  7592,  1010,  2026,  3899,  2003, 10140,  1012,   102,  1045,\n",
       "          2066,  2009,   102]]), 'token_type_ids': tensor([[0, 0, 0, 0, 0, 0, 0, 0, 0, 1, 1, 1, 1]]), 'attention_mask': tensor([[1, 1, 1, 1, 1, 1, 1, 1, 1, 1, 1, 1, 1]])}"
      ]
     },
     "execution_count": 36,
     "metadata": {},
     "output_type": "execute_result"
    }
   ],
   "source": [
    "inputs"
   ]
  },
  {
   "cell_type": "code",
   "execution_count": 37,
   "id": "permanent-heating",
   "metadata": {},
   "outputs": [],
   "source": [
    "outputs = model(**inputs)"
   ]
  },
  {
   "cell_type": "code",
   "execution_count": 38,
   "id": "buried-burst",
   "metadata": {},
   "outputs": [],
   "source": [
    "prediction_logits = outputs.prediction_logits"
   ]
  },
  {
   "cell_type": "code",
   "execution_count": 39,
   "id": "polished-stanley",
   "metadata": {},
   "outputs": [
    {
     "data": {
      "text/plain": [
       "torch.Size([1, 13, 30522])"
      ]
     },
     "execution_count": 39,
     "metadata": {},
     "output_type": "execute_result"
    }
   ],
   "source": [
    "prediction_logits.shape"
   ]
  },
  {
   "cell_type": "code",
   "execution_count": 40,
   "id": "broadband-ticket",
   "metadata": {},
   "outputs": [],
   "source": [
    "seq_relationship_logits = outputs.seq_relationship_logits"
   ]
  },
  {
   "cell_type": "code",
   "execution_count": 41,
   "id": "running-breakfast",
   "metadata": {},
   "outputs": [
    {
     "data": {
      "text/plain": [
       "tensor([[ 5.9950, -5.5033]], grad_fn=<AddmmBackward>)"
      ]
     },
     "execution_count": 41,
     "metadata": {},
     "output_type": "execute_result"
    }
   ],
   "source": [
    "seq_relationship_logits"
   ]
  },
  {
   "cell_type": "markdown",
   "id": "retained-station",
   "metadata": {},
   "source": [
    "### BertLMHeadModel  -- Only MLM"
   ]
  },
  {
   "cell_type": "code",
   "execution_count": 43,
   "id": "temporal-kingston",
   "metadata": {},
   "outputs": [],
   "source": [
    "from transformers import BertTokenizer, BertLMHeadModel, BertConfig\n",
    "import torch"
   ]
  },
  {
   "cell_type": "code",
   "execution_count": 44,
   "id": "polar-minimum",
   "metadata": {},
   "outputs": [],
   "source": [
    "tokenizer = BertTokenizer.from_pretrained('bert-base-uncased')"
   ]
  },
  {
   "cell_type": "code",
   "execution_count": 45,
   "id": "constant-salon",
   "metadata": {},
   "outputs": [],
   "source": [
    "config = BertConfig.from_pretrained(\"bert-base-uncased\")\n",
    "config.is_decoder = True"
   ]
  },
  {
   "cell_type": "code",
   "execution_count": 50,
   "id": "former-textbook",
   "metadata": {},
   "outputs": [
    {
     "name": "stderr",
     "output_type": "stream",
     "text": [
      "Some weights of the model checkpoint at bert-base-uncased were not used when initializing BertLMHeadModel: ['cls.seq_relationship.weight', 'cls.seq_relationship.bias']\n",
      "- This IS expected if you are initializing BertLMHeadModel from the checkpoint of a model trained on another task or with another architecture (e.g. initializing a BertForSequenceClassification model from a BertForPreTraining model).\n",
      "- This IS NOT expected if you are initializing BertLMHeadModel from the checkpoint of a model that you expect to be exactly identical (initializing a BertForSequenceClassification model from a BertForSequenceClassification model).\n"
     ]
    }
   ],
   "source": [
    "model = BertLMHeadModel.from_pretrained('bert-base-uncased', config=config)"
   ]
  },
  {
   "cell_type": "code",
   "execution_count": 47,
   "id": "radio-affect",
   "metadata": {},
   "outputs": [],
   "source": [
    "inputs = tokenizer(\"Hellp, my dog is cute\", return_tensors='pt')"
   ]
  },
  {
   "cell_type": "code",
   "execution_count": 48,
   "id": "incident-oriental",
   "metadata": {},
   "outputs": [
    {
     "data": {
      "text/plain": [
       "{'input_ids': tensor([[  101,  3109,  2361,  1010,  2026,  3899,  2003, 10140,   102]]), 'token_type_ids': tensor([[0, 0, 0, 0, 0, 0, 0, 0, 0]]), 'attention_mask': tensor([[1, 1, 1, 1, 1, 1, 1, 1, 1]])}"
      ]
     },
     "execution_count": 48,
     "metadata": {},
     "output_type": "execute_result"
    }
   ],
   "source": [
    "inputs"
   ]
  },
  {
   "cell_type": "code",
   "execution_count": 51,
   "id": "correct-irish",
   "metadata": {},
   "outputs": [],
   "source": [
    "outputs = model(**inputs)"
   ]
  },
  {
   "cell_type": "code",
   "execution_count": 53,
   "id": "equipped-aircraft",
   "metadata": {},
   "outputs": [
    {
     "data": {
      "text/plain": [
       "tensor([[[ -6.3390,  -6.3664,  -6.4600,  ...,  -5.5355,  -4.1787,  -5.8384],\n",
       "         [ -6.2403,  -6.2469,  -6.3423,  ...,  -5.5245,  -4.3050,  -4.5278],\n",
       "         [ -6.4961,  -6.5741,  -6.5669,  ...,  -6.0016,  -4.4028,  -4.8309],\n",
       "         ...,\n",
       "         [ -9.0241,  -8.8429,  -9.1135,  ...,  -8.9733,  -7.6501,  -6.0509],\n",
       "         [ -7.8314,  -7.7269,  -7.9044,  ...,  -7.9816,  -7.3363,  -5.6727],\n",
       "         [-12.5266, -12.0821, -11.9288,  ...,  -9.5113, -11.1537,  -7.9784]]],\n",
       "       grad_fn=<AddBackward0>)"
      ]
     },
     "execution_count": 53,
     "metadata": {},
     "output_type": "execute_result"
    }
   ],
   "source": [
    "outputs.logits"
   ]
  },
  {
   "cell_type": "markdown",
   "id": "fossil-breakfast",
   "metadata": {},
   "source": [
    "### BertForNextSentencePrediction  -- Only NSP"
   ]
  },
  {
   "cell_type": "code",
   "execution_count": 55,
   "id": "responsible-thailand",
   "metadata": {},
   "outputs": [],
   "source": [
    "from transformers import BertForNextSentencePrediction"
   ]
  },
  {
   "cell_type": "code",
   "execution_count": 56,
   "id": "injured-terrace",
   "metadata": {},
   "outputs": [
    {
     "name": "stderr",
     "output_type": "stream",
     "text": [
      "Some weights of the model checkpoint at bert-base-uncased were not used when initializing BertForNextSentencePrediction: ['cls.predictions.decoder.weight', 'cls.predictions.bias', 'cls.predictions.transform.LayerNorm.weight', 'cls.predictions.transform.dense.weight', 'cls.predictions.transform.dense.bias', 'cls.predictions.transform.LayerNorm.bias']\n",
      "- This IS expected if you are initializing BertForNextSentencePrediction from the checkpoint of a model trained on another task or with another architecture (e.g. initializing a BertForSequenceClassification model from a BertForPreTraining model).\n",
      "- This IS NOT expected if you are initializing BertForNextSentencePrediction from the checkpoint of a model that you expect to be exactly identical (initializing a BertForSequenceClassification model from a BertForSequenceClassification model).\n"
     ]
    }
   ],
   "source": [
    "tokenizer = BertTokenizer.from_pretrained('bert-base-uncased')\n",
    "model = BertForNextSentencePrediction.from_pretrained('bert-base-uncased')"
   ]
  },
  {
   "cell_type": "code",
   "execution_count": 57,
   "id": "specific-growth",
   "metadata": {},
   "outputs": [],
   "source": [
    "prompt = 'Hello, my dog is cute. '\n",
    "next_sentence = 'I like it'"
   ]
  },
  {
   "cell_type": "code",
   "execution_count": 58,
   "id": "attractive-retreat",
   "metadata": {},
   "outputs": [],
   "source": [
    "encoding = tokenizer(prompt, next_sentence, return_tensors='pt')"
   ]
  },
  {
   "cell_type": "code",
   "execution_count": 59,
   "id": "working-motel",
   "metadata": {},
   "outputs": [
    {
     "data": {
      "text/plain": [
       "{'input_ids': tensor([[  101,  7592,  1010,  2026,  3899,  2003, 10140,  1012,   102,  1045,\n",
       "          2066,  2009,   102]]), 'token_type_ids': tensor([[0, 0, 0, 0, 0, 0, 0, 0, 0, 1, 1, 1, 1]]), 'attention_mask': tensor([[1, 1, 1, 1, 1, 1, 1, 1, 1, 1, 1, 1, 1]])}"
      ]
     },
     "execution_count": 59,
     "metadata": {},
     "output_type": "execute_result"
    }
   ],
   "source": [
    "encoding"
   ]
  },
  {
   "cell_type": "code",
   "execution_count": 60,
   "id": "polyphonic-wedding",
   "metadata": {},
   "outputs": [],
   "source": [
    "outputs = model(**encoding, labels= torch.LongTensor([1]))"
   ]
  },
  {
   "cell_type": "code",
   "execution_count": 62,
   "id": "tough-ghana",
   "metadata": {},
   "outputs": [
    {
     "data": {
      "text/plain": [
       "tensor([[ 5.9950, -5.5033]], grad_fn=<AddmmBackward>)"
      ]
     },
     "execution_count": 62,
     "metadata": {},
     "output_type": "execute_result"
    }
   ],
   "source": [
    "outputs.logits"
   ]
  },
  {
   "cell_type": "markdown",
   "id": "related-delivery",
   "metadata": {},
   "source": [
    "## BertForSequenceClassification\n",
    "-- 句子分类的输入为句子（对），输出为单个分类标签  \n",
    "-- 既可以做分类，也可以做回归任务"
   ]
  },
  {
   "cell_type": "code",
   "execution_count": 63,
   "id": "demanding-tracker",
   "metadata": {},
   "outputs": [],
   "source": [
    "from transformers.models.bert.tokenization_bert import BertTokenizer\n",
    "from transformers.models.bert.modeling_bert import BertForSequenceClassification"
   ]
  },
  {
   "cell_type": "code",
   "execution_count": 64,
   "id": "insured-label",
   "metadata": {},
   "outputs": [
    {
     "data": {
      "application/vnd.jupyter.widget-view+json": {
       "model_id": "33fb59a614c343a9a36a046ce5eb7575",
       "version_major": 2,
       "version_minor": 0
      },
      "text/plain": [
       "Downloading:   0%|          | 0.00/213k [00:00<?, ?B/s]"
      ]
     },
     "metadata": {},
     "output_type": "display_data"
    },
    {
     "data": {
      "application/vnd.jupyter.widget-view+json": {
       "model_id": "44b2a7b17d5546768821179c9a638546",
       "version_major": 2,
       "version_minor": 0
      },
      "text/plain": [
       "Downloading:   0%|          | 0.00/29.0 [00:00<?, ?B/s]"
      ]
     },
     "metadata": {},
     "output_type": "display_data"
    },
    {
     "data": {
      "application/vnd.jupyter.widget-view+json": {
       "model_id": "1120bd0b231c4b1392a1e390f8ec21e8",
       "version_major": 2,
       "version_minor": 0
      },
      "text/plain": [
       "Downloading:   0%|          | 0.00/436k [00:00<?, ?B/s]"
      ]
     },
     "metadata": {},
     "output_type": "display_data"
    }
   ],
   "source": [
    "tokenizer = BertTokenizer.from_pretrained('bert-base-cased-finetuned-mrpc')"
   ]
  },
  {
   "cell_type": "code",
   "execution_count": 65,
   "id": "conventional-queensland",
   "metadata": {},
   "outputs": [
    {
     "data": {
      "application/vnd.jupyter.widget-view+json": {
       "model_id": "dea00c70785147868910896c8b5b87a5",
       "version_major": 2,
       "version_minor": 0
      },
      "text/plain": [
       "Downloading:   0%|          | 0.00/433 [00:00<?, ?B/s]"
      ]
     },
     "metadata": {},
     "output_type": "display_data"
    },
    {
     "data": {
      "application/vnd.jupyter.widget-view+json": {
       "model_id": "aed80428ddad42dfb9ab70e1fd086774",
       "version_major": 2,
       "version_minor": 0
      },
      "text/plain": [
       "Downloading:   0%|          | 0.00/433M [00:00<?, ?B/s]"
      ]
     },
     "metadata": {},
     "output_type": "display_data"
    }
   ],
   "source": [
    "model = BertForSequenceClassification.from_pretrained(\"bert-base-cased-finetuned-mrpc\")"
   ]
  },
  {
   "cell_type": "code",
   "execution_count": 83,
   "id": "certified-sierra",
   "metadata": {},
   "outputs": [],
   "source": [
    "classes = [\"not paraphrase\", 'is paraphrase']\n",
    "\n",
    "sequence_0 = \"The company HuggingFace is based in New York City\"\n",
    "sequence_1 = 'Apples are especially bad for your health'\n",
    "sequence_2 = \"HuggingFace's headquarters are situated in Manhattan\""
   ]
  },
  {
   "cell_type": "code",
   "execution_count": 84,
   "id": "adaptive-sociology",
   "metadata": {},
   "outputs": [],
   "source": [
    "paraphrase = tokenizer(sequence_0, sequence_2, return_tensors='pt')\n",
    "not_paraphrase = tokenizer(sequence_0, sequence_1, return_tensors='pt')\n",
    "\n",
    "paraphrase_classification_logits = model(**paraphrase).logits\n",
    "not_paraphrase_classification_logits = model(**not_paraphrase).logits"
   ]
  },
  {
   "cell_type": "code",
   "execution_count": 89,
   "id": "brilliant-breeding",
   "metadata": {},
   "outputs": [],
   "source": [
    "paraphrase_results = torch.softmax(paraphrase_classification_logits, dim=1).tolist()[0]\n",
    "not_paraphrase_results = torch.softmax(not_paraphrase_classification_logits, dim=1).tolist()[0]"
   ]
  },
  {
   "cell_type": "code",
   "execution_count": 90,
   "id": "built-prophet",
   "metadata": {},
   "outputs": [
    {
     "name": "stdout",
     "output_type": "stream",
     "text": [
      "not paraphrase: 10%\n",
      "is paraphrase: 90%\n"
     ]
    }
   ],
   "source": [
    "for _class, _prob in zip(classes, paraphrase_results):\n",
    "    print(f\"{_class}: {int(round(_prob * 100))}%\")"
   ]
  },
  {
   "cell_type": "code",
   "execution_count": 91,
   "id": "digital-offense",
   "metadata": {},
   "outputs": [
    {
     "name": "stdout",
     "output_type": "stream",
     "text": [
      "not paraphrase: 94%\n",
      "is paraphrase: 6%\n"
     ]
    }
   ],
   "source": [
    "for _class, _prob in zip(classes, not_paraphrase_results):\n",
    "    print(f\"{_class}: {int(round(_prob * 100))}%\")"
   ]
  },
  {
   "cell_type": "markdown",
   "id": "freelance-breakfast",
   "metadata": {},
   "source": [
    "## BertForMultipleChoice"
   ]
  },
  {
   "cell_type": "markdown",
   "id": "improved-friendship",
   "metadata": {},
   "source": [
    "这一模型用于多项选择，如 RocStories/SWAG 任务。\n",
    "\n",
    "多项选择任务的输入为一组分次输入的句子，输出为选择某一句子的单个标签。 结构上与句子分类相似，只不过线性层输出维度为 1，即每次需要将每个样本的多个句子的输出拼接起来作为每个样本的预测分数。  \n",
    "实际上，具体操作时是把每个 batch 的多个句子一同放入的，所以一次处理的输入为[batch_size, num_choices]数量的句子，因此相同 batch 大小时，比句子分类等任务需要更多的显存，在训练时需要小心。"
   ]
  },
  {
   "cell_type": "code",
   "execution_count": null,
   "id": "undefined-sussex",
   "metadata": {},
   "outputs": [],
   "source": []
  },
  {
   "cell_type": "markdown",
   "id": "whole-settlement",
   "metadata": {},
   "source": [
    "## BertForTokenClassification"
   ]
  },
  {
   "cell_type": "markdown",
   "id": "imposed-mexican",
   "metadata": {},
   "source": [
    "-- 用于序列标注（词分类），如NER任务  \n",
    "-- 输入：单个句子文本  \n",
    "-- 输出：每个token对应的标签  "
   ]
  },
  {
   "cell_type": "code",
   "execution_count": 92,
   "id": "ignored-dairy",
   "metadata": {},
   "outputs": [],
   "source": [
    "from transformers import BertForTokenClassification"
   ]
  },
  {
   "cell_type": "code",
   "execution_count": 93,
   "id": "engaging-subdivision",
   "metadata": {},
   "outputs": [
    {
     "data": {
      "application/vnd.jupyter.widget-view+json": {
       "model_id": "50d49d282ec14a6ca028ef323795fa2b",
       "version_major": 2,
       "version_minor": 0
      },
      "text/plain": [
       "Downloading:   0%|          | 0.00/998 [00:00<?, ?B/s]"
      ]
     },
     "metadata": {},
     "output_type": "display_data"
    },
    {
     "data": {
      "application/vnd.jupyter.widget-view+json": {
       "model_id": "2d7fc8d7840e462baac20fd38dd424b0",
       "version_major": 2,
       "version_minor": 0
      },
      "text/plain": [
       "Downloading:   0%|          | 0.00/1.33G [00:00<?, ?B/s]"
      ]
     },
     "metadata": {},
     "output_type": "display_data"
    }
   ],
   "source": [
    "model = BertForTokenClassification.from_pretrained(\"dbmdz/bert-large-cased-finetuned-conll03-english\")"
   ]
  },
  {
   "cell_type": "code",
   "execution_count": 94,
   "id": "attended-tooth",
   "metadata": {},
   "outputs": [],
   "source": [
    "label_list = [\"O\", \"B-MISC\",  \"I-MISC\", \"B-PER\",\"I-PER\", \"B-ORG\", \"I-ORG\", \"B-LOC\", \"I-LOC\"]"
   ]
  },
  {
   "cell_type": "code",
   "execution_count": 95,
   "id": "opposite-blair",
   "metadata": {},
   "outputs": [],
   "source": [
    "sequence = \"Hugging Face Inc. is a company based in New York City. \\\n",
    "Its headquarters are in DUMBO, therefore very close to the Manhattan Bridge.\""
   ]
  },
  {
   "cell_type": "code",
   "execution_count": 96,
   "id": "grave-principal",
   "metadata": {},
   "outputs": [],
   "source": [
    "# Bit of a hack to get the tokens with the special tokens\n",
    "tokens = tokenizer.tokenize(tokenizer.decode(tokenizer.encode(sequence)))"
   ]
  },
  {
   "cell_type": "code",
   "execution_count": 98,
   "id": "recreational-asbestos",
   "metadata": {},
   "outputs": [],
   "source": [
    "inputs = tokenizer.encode(sequence, return_tensors='pt')"
   ]
  },
  {
   "cell_type": "code",
   "execution_count": 99,
   "id": "difficult-garlic",
   "metadata": {},
   "outputs": [],
   "source": [
    "outputs = model(inputs).logits"
   ]
  },
  {
   "cell_type": "code",
   "execution_count": 101,
   "id": "universal-sector",
   "metadata": {},
   "outputs": [],
   "source": [
    "predictions = torch.argmax(outputs, dim=2)"
   ]
  },
  {
   "cell_type": "code",
   "execution_count": 102,
   "id": "dangerous-specialist",
   "metadata": {},
   "outputs": [
    {
     "name": "stdout",
     "output_type": "stream",
     "text": [
      "('[CLS]', 'O')\n",
      "('Hu', 'I-ORG')\n",
      "('##gging', 'I-ORG')\n",
      "('Face', 'I-ORG')\n",
      "('Inc', 'I-ORG')\n",
      "('.', 'O')\n",
      "('is', 'O')\n",
      "('a', 'O')\n",
      "('company', 'O')\n",
      "('based', 'O')\n",
      "('in', 'O')\n",
      "('New', 'I-LOC')\n",
      "('York', 'I-LOC')\n",
      "('City', 'I-LOC')\n",
      "('.', 'O')\n",
      "('Its', 'O')\n",
      "('headquarters', 'O')\n",
      "('are', 'O')\n",
      "('in', 'O')\n",
      "('D', 'I-LOC')\n",
      "('##UM', 'I-LOC')\n",
      "('##BO', 'I-LOC')\n",
      "(',', 'O')\n",
      "('therefore', 'O')\n",
      "('very', 'O')\n",
      "('close', 'O')\n",
      "('to', 'O')\n",
      "('the', 'O')\n",
      "('Manhattan', 'I-LOC')\n",
      "('Bridge', 'I-LOC')\n",
      "('.', 'O')\n",
      "('[SEP]', 'O')\n"
     ]
    }
   ],
   "source": [
    "for token, prediction in zip(tokens, predictions[0].numpy()):\n",
    "    print((token, model.config.id2label[prediction]))"
   ]
  },
  {
   "cell_type": "markdown",
   "id": "associate-folks",
   "metadata": {},
   "source": [
    "## BertForQuestionAnswering"
   ]
  },
  {
   "cell_type": "markdown",
   "id": "israeli-anatomy",
   "metadata": {},
   "source": [
    "--输入：问题+答案组成的句子对  \n",
    "--输出：起始位置和结束位置，用于标出回答中的具体文本"
   ]
  },
  {
   "cell_type": "code",
   "execution_count": 103,
   "id": "equal-egypt",
   "metadata": {},
   "outputs": [],
   "source": [
    "from transformers import AutoTokenizer, AutoModelForQuestionAnswering"
   ]
  },
  {
   "cell_type": "code",
   "execution_count": 104,
   "id": "certified-blues",
   "metadata": {},
   "outputs": [
    {
     "data": {
      "application/vnd.jupyter.widget-view+json": {
       "model_id": "38edc34e14174f79aae367c7ef88e431",
       "version_major": 2,
       "version_minor": 0
      },
      "text/plain": [
       "Downloading:   0%|          | 0.00/443 [00:00<?, ?B/s]"
      ]
     },
     "metadata": {},
     "output_type": "display_data"
    },
    {
     "data": {
      "application/vnd.jupyter.widget-view+json": {
       "model_id": "12920b89fefd4cbcb33c5790b4595c87",
       "version_major": 2,
       "version_minor": 0
      },
      "text/plain": [
       "Downloading:   0%|          | 0.00/232k [00:00<?, ?B/s]"
      ]
     },
     "metadata": {},
     "output_type": "display_data"
    },
    {
     "data": {
      "application/vnd.jupyter.widget-view+json": {
       "model_id": "461f0505e351463c9dbfd0cdf2471162",
       "version_major": 2,
       "version_minor": 0
      },
      "text/plain": [
       "Downloading:   0%|          | 0.00/466k [00:00<?, ?B/s]"
      ]
     },
     "metadata": {},
     "output_type": "display_data"
    },
    {
     "data": {
      "application/vnd.jupyter.widget-view+json": {
       "model_id": "b429cf640ec64b2d85a3537ae838f1b9",
       "version_major": 2,
       "version_minor": 0
      },
      "text/plain": [
       "Downloading:   0%|          | 0.00/28.0 [00:00<?, ?B/s]"
      ]
     },
     "metadata": {},
     "output_type": "display_data"
    }
   ],
   "source": [
    "tokenizer = AutoTokenizer.from_pretrained('bert-large-uncased-whole-word-masking-finetuned-squad')"
   ]
  },
  {
   "cell_type": "code",
   "execution_count": 106,
   "id": "tired-humor",
   "metadata": {
    "scrolled": false
   },
   "outputs": [
    {
     "data": {
      "application/vnd.jupyter.widget-view+json": {
       "model_id": "1f98d47d2fad48d9b9a0ecfa21e6ca40",
       "version_major": 2,
       "version_minor": 0
      },
      "text/plain": [
       "Downloading:   0%|          | 0.00/1.34G [00:00<?, ?B/s]"
      ]
     },
     "metadata": {},
     "output_type": "display_data"
    }
   ],
   "source": [
    "model = AutoModelForQuestionAnswering.from_pretrained('bert-large-uncased-whole-word-masking-finetuned-squad')"
   ]
  },
  {
   "cell_type": "code",
   "execution_count": 108,
   "id": "civic-stations",
   "metadata": {},
   "outputs": [],
   "source": [
    "text = \"\"\"🤗 Transformers (formerly known as pytorch-transformers and pytorch-pretrained-bert) \n",
    "provides general-purpose architectures (BERT, GPT-2, RoBERTa, XLM, DistilBert, XLNet…) for \n",
    "Natural Language Understanding (NLU) and Natural Language Generation (NLG) with over 32+ \n",
    "pretrained models in 100+ languages and deep interoperability between TensorFlow 2.0 and PyTorch.\"\"\""
   ]
  },
  {
   "cell_type": "code",
   "execution_count": 109,
   "id": "eight-colleague",
   "metadata": {},
   "outputs": [],
   "source": [
    "questions = [\n",
    "\"How many pretrained models are available in 🤗 Transformers?\",\n",
    "\"What does 🤗 Transformers provide?\",\n",
    "\"🤗 Transformers provides interoperability between which frameworks?\",\n",
    "]"
   ]
  },
  {
   "cell_type": "code",
   "execution_count": 111,
   "id": "bored-point",
   "metadata": {},
   "outputs": [
    {
     "name": "stdout",
     "output_type": "stream",
     "text": [
      "Question:How many pretrained models are available in 🤗 Transformers?\n",
      "Answer:over 32 +\n",
      "Question:What does 🤗 Transformers provide?\n",
      "Answer:general - purpose architectures\n",
      "Question:🤗 Transformers provides interoperability between which frameworks?\n",
      "Answer:tensorflow 2. 0 and pytorch\n"
     ]
    }
   ],
   "source": [
    "for question in questions:\n",
    "    inputs = tokenizer(question, text, add_special_tokens=True, return_tensors='pt')\n",
    "    input_ids = inputs[\"input_ids\"].tolist()[0]\n",
    "    outputs = model(**inputs)\n",
    "    answer_start_scores = outputs.start_logits\n",
    "    answer_end_scores = outputs.end_logits\n",
    "    answer_start = torch.argmax(\n",
    "        answer_start_scores\n",
    "    )\n",
    "    answer_end = torch.argmax(answer_end_scores) + 1\n",
    "    answer = tokenizer.convert_tokens_to_string(\n",
    "        tokenizer.convert_ids_to_tokens(input_ids[answer_start:answer_end])\n",
    "    )\n",
    "    print(f\"Question:{question}\")\n",
    "    print(f\"Answer:{answer}\")"
   ]
  },
  {
   "cell_type": "code",
   "execution_count": null,
   "id": "departmental-alpha",
   "metadata": {},
   "outputs": [],
   "source": []
  },
  {
   "cell_type": "markdown",
   "id": "informational-baltimore",
   "metadata": {},
   "source": [
    "# BERT训练和优化"
   ]
  },
  {
   "cell_type": "code",
   "execution_count": null,
   "id": "interim-prince",
   "metadata": {},
   "outputs": [],
   "source": []
  },
  {
   "cell_type": "markdown",
   "id": "automatic-trade",
   "metadata": {},
   "source": [
    "## Pre-Training"
   ]
  },
  {
   "cell_type": "markdown",
   "id": "shaped-funeral",
   "metadata": {},
   "source": [
    "预训练阶段，除了众所周知的 15%、80% mask 比例，有一个值得注意的地方就是参数共享。 不止 BERT，所有 huggingface 实现的 PLM 的 word embedding 和 masked language model 的预测权重在初始化过程中都是共享的"
   ]
  },
  {
   "cell_type": "markdown",
   "id": "opposed-election",
   "metadata": {},
   "source": [
    "## Fine-Tuning"
   ]
  },
  {
   "cell_type": "markdown",
   "id": "coated-denial",
   "metadata": {},
   "source": [
    "### AdamW"
   ]
  },
  {
   "cell_type": "markdown",
   "id": "informative-launch",
   "metadata": {},
   "source": [
    "L2 正则化和权重衰减在大部分情况下并不等价，只在 SGD 优化的情况下是等价的；而大多数框架中对于 Adam+L2 正则使用的是权重衰减的方式，两者不能混为一谈。  \n",
    "AdamW 是在 Adam+L2 正则化的基础上进行改进的算法  \n",
    "通常，我们会选择模型的 weight 部分参与 decay 过程，而另一部分（包括 LayerNorm 的 weight）不参与"
   ]
  },
  {
   "cell_type": "markdown",
   "id": "neutral-border",
   "metadata": {},
   "source": [
    "### Warmup"
   ]
  },
  {
   "cell_type": "markdown",
   "id": "unauthorized-armstrong",
   "metadata": {},
   "source": [
    "在训练初期使用较小的学习率（从 0 开始），在一定步数（比如 1000 步）内逐渐提高到正常大小（比如上面的 2e-5），避免模型过早进入局部最优而过拟合；\n",
    "\n",
    "* 在训练后期再慢慢将学习率降低到 0，避免后期训练还出现较大的参数变化。\n",
    "* 在 Huggingface 的实现中，可以使用多种 warmup 策略\n",
    "\n",
    "```python\n",
    "TYPE_TO_SCHEDULER_FUNCTION = {\n",
    "    SchedulerType.LINEAR: get_linear_schedule_with_warmup,\n",
    "    SchedulerType.COSINE: get_cosine_schedule_with_warmup,\n",
    "    SchedulerType.COSINE_WITH_RESTARTS: get_cosine_with_hard_restarts_schedule_with_warmup,\n",
    "    SchedulerType.POLYNOMIAL: get_polynomial_decay_schedule_with_warmup,\n",
    "    SchedulerType.CONSTANT: get_constant_schedule,\n",
    "    SchedulerType.CONSTANT_WITH_WARMUP: get_constant_schedule_with_warmup,\n",
    "}\n",
    "```"
   ]
  },
  {
   "attachments": {
    "image.png": {
     "image/png": "[encoded data removed]"
    }
   },
   "cell_type": "markdown",
   "id": "fabulous-transfer",
   "metadata": {},
   "source": [
    "![image.png](attachment:image.png)"
   ]
  },
  {
   "cell_type": "code",
   "execution_count": null,
   "id": "modified-coverage",
   "metadata": {},
   "outputs": [],
   "source": []
  }
 ],
 "metadata": {
  "kernelspec": {
   "display_name": "Python 3",
   "language": "python",
   "name": "python3"
  },
  "language_info": {
   "codemirror_mode": {
    "name": "ipython",
    "version": 3
   },
   "file_extension": ".py",
   "mimetype": "text/x-python",
   "name": "python",
   "nbconvert_exporter": "python",
   "pygments_lexer": "ipython3",
   "version": "3.6.5"
  },
  "toc": {
   "base_numbering": 1,
   "nav_menu": {},
   "number_sections": true,
   "sideBar": true,
   "skip_h1_title": false,
   "title_cell": "Table of Contents",
   "title_sidebar": "Contents",
   "toc_cell": false,
   "toc_position": {
    "height": "calc(100% - 180px)",
    "left": "10px",
    "top": "150px",
    "width": "308.242px"
   },
   "toc_section_display": true,
   "toc_window_display": true
  },
  "varInspector": {
   "cols": {
    "lenName": 16,
    "lenType": 16,
    "lenVar": 40
   },
   "kernels_config": {
    "python": {
     "delete_cmd_postfix": "",
     "delete_cmd_prefix": "del ",
     "library": "var_list.py",
     "varRefreshCmd": "print(var_dic_list())"
    },
    "r": {
     "delete_cmd_postfix": ") ",
     "delete_cmd_prefix": "rm(",
     "library": "var_list.r",
     "varRefreshCmd": "cat(var_dic_list()) "
    }
   },
   "types_to_exclude": [
    "module",
    "function",
    "builtin_function_or_method",
    "instance",
    "_Feature"
   ],
   "window_display": false
  }
 },
 "nbformat": 4,
 "nbformat_minor": 5
}
